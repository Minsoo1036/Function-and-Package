{
 "cells": [
  {
   "cell_type": "markdown",
   "id": "490c4ae3",
   "metadata": {},
   "source": [
    "# 설명 가능한 인공지능 방법론 SHAP value 에 대하여"
   ]
  },
  {
   "cell_type": "markdown",
   "id": "3df8df34",
   "metadata": {},
   "source": [
    "요즘들어 머신러닝의 예측값에 대한 설명에 대한 니즈가 커지고 있다."
   ]
  },
  {
   "cell_type": "markdown",
   "id": "8b267dc0",
   "metadata": {},
   "source": [
    "이에맞추어 오늘은 XAI 방법론 중에 하나인 SHAP value 에 대해서 깊이 파보고자 한다."
   ]
  },
  {
   "cell_type": "markdown",
   "id": "f05d6aca",
   "metadata": {},
   "source": [
    "경제학의 게임이론 분야에서 대가인 Lloyd Shapley(1951) 가 제안했던 Shapley Value의 개념을 머신러닝의 해석에 적용한 것이 SHAP Value 이다."
   ]
  },
  {
   "cell_type": "markdown",
   "id": "4a5dcc02",
   "metadata": {},
   "source": [
    "이러한 SHAP Value는 Su-In Lee 와 Scott Lundberg 가 2017년에 \"A Unified Approach to Interpreting Model Predictions\" 라는 제목의 논문으로 발표하였다."
   ]
  },
  {
   "cell_type": "markdown",
   "id": "93ac743d",
   "metadata": {},
   "source": [
    "Shapley value는 Efficiency, Dummy player, Symmetry, Strong monotonicity, Additivity 등의 지표로써 매력적인 성질들을 가지고 있다."
   ]
  },
  {
   "cell_type": "markdown",
   "id": "0f3ed85f",
   "metadata": {},
   "source": [
    "이에 따라 SHAP value 역시 변수들의 contribution에 대한 measure로써 좋은 성질들을 가지고 있다."
   ]
  },
  {
   "cell_type": "markdown",
   "id": "5fab4fe6",
   "metadata": {},
   "source": [
    "SHAP value에 대해 본격적으로 들어가기에 앞서, Shpley value에 대해 좀 더 알아보자."
   ]
  },
  {
   "cell_type": "markdown",
   "id": "6a096bbe",
   "metadata": {},
   "source": [
    "## Shapley value"
   ]
  },
  {
   "cell_type": "markdown",
   "id": "d47691b6",
   "metadata": {},
   "source": [
    "본래 Shapley Value는 팀플레이의 결과물로 나온 보상을 나눠가질때 각 팀원들에게 돌아갈 보상을 합리적으로 정하는데 그 목적이 있었다."
   ]
  },
  {
   "cell_type": "markdown",
   "id": "8ff0ae1b",
   "metadata": {},
   "source": [
    "즉, 기여를 많이한 팀원에게 많은 보상이 돌아갈테고, 기여를 적게한 팀원에게 적은 보상이 돌아가게 될 것이다."
   ]
  },
  {
   "cell_type": "markdown",
   "id": "5a4b0200",
   "metadata": {},
   "source": [
    "그리고 그러한 보상의 정도를 정량적으로 Shapley value를 통해 정할수 있는 것이다."
   ]
  },
  {
   "cell_type": "markdown",
   "id": "e90a0f55",
   "metadata": {},
   "source": [
    "예를 들어보자. 3명의 팀원이 한 팀이 되어 상품을 판매한다고 해보자. 1달 후 상품이 100만개 팔렸다고 했을때 3명의 팀원들에게 돌아갈 보상은 어떻게 될까"
   ]
  },
  {
   "cell_type": "markdown",
   "id": "a15b61f2",
   "metadata": {},
   "source": [
    "가장 심플한 방식으로는 공산주의적 방식으로 3명 모두에게 전체 이익의 1/3씩 나눠주는 것이다."
   ]
  },
  {
   "cell_type": "markdown",
   "id": "2b3a7619",
   "metadata": {},
   "source": [
    "하지만 이 팀원 5명이 각각 A,B,C 라고 할 때, A가 획기적인 방식을 고안해 상품을 비약적으로 많이 팔 수 있게 되었다고 쳐보자."
   ]
  },
  {
   "cell_type": "markdown",
   "id": "24287aa8",
   "metadata": {},
   "source": [
    "또한, 팀원 C는 한달간 몸이 아파 상품 판매에 거의 기여하지 못했다고 해보자. 이럴 경우에 어떻게 해야 합리적으로 팀원들에게 보상을 나눌 수 있을까"
   ]
  },
  {
   "cell_type": "markdown",
   "id": "e9769cea",
   "metadata": {},
   "source": [
    "Shapley value는 가상의 실험을 통해 이 문제를 해결하고자 한다. 그 가상의 실험은 아래와 같다."
   ]
  },
  {
   "cell_type": "markdown",
   "id": "2c5845d4",
   "metadata": {},
   "source": [
    "A의 기여도 계산을 위한 가상의 비교 실험 셋팅"
   ]
  },
  {
   "cell_type": "markdown",
   "id": "70df3dea",
   "metadata": {},
   "source": [
    "$\\emptyset$   vs.   {A}"
   ]
  },
  {
   "cell_type": "markdown",
   "id": "3efeb286",
   "metadata": {},
   "source": [
    "$\\emptyset$   vs.   {A}"
   ]
  },
  {
   "cell_type": "markdown",
   "id": "f7f37ad8",
   "metadata": {},
   "source": [
    "{B}   vs.   {A,B}"
   ]
  },
  {
   "cell_type": "markdown",
   "id": "ea7ade75",
   "metadata": {},
   "source": [
    "{C}   vs.   {A,C}"
   ]
  },
  {
   "cell_type": "markdown",
   "id": "531dc207",
   "metadata": {},
   "source": [
    "{B,C}   vs.   {A,B,C}"
   ]
  },
  {
   "cell_type": "markdown",
   "id": "08adf275",
   "metadata": {},
   "source": [
    "{C,B}   vs.   {A,C,B}"
   ]
  },
  {
   "cell_type": "markdown",
   "id": "72c57021",
   "metadata": {},
   "source": [
    "위 실험 셋팅을 유심히 보면, 왼쪽 셋팅은 A가 없는 모든 경우들이며 오른쪽 셋팅은 왼쪽 셋팅에서 A가 추가로 들어간 경우들 임을 알 수 있다."
   ]
  },
  {
   "cell_type": "markdown",
   "id": "45aae7af",
   "metadata": {},
   "source": [
    "즉, 위 6가지 실험에서 오른쪽과 왼쪽의 결과값의 차이는 각 경우에서 A의 기여도로 볼 수 있다."
   ]
  },
  {
   "cell_type": "markdown",
   "id": "affcd015",
   "metadata": {},
   "source": [
    "그리고 이를 평균낸다면 팀에서 A의 총 기여도가 되는 것이다."
   ]
  },
  {
   "cell_type": "markdown",
   "id": "5ef7e43a",
   "metadata": {},
   "source": [
    "그런데 중복되는 조합들이 보인다. 예를 들면 $\\emptyset$   vs.   {A}  는 두개가 있으며"
   ]
  },
  {
   "cell_type": "markdown",
   "id": "304427e8",
   "metadata": {},
   "source": [
    "{B,C}   vs.   {A,B,C}   와 {C,B}   vs.   {A,C,B} 도 사실상 같은 실험이라 볼 수 있다."
   ]
  },
  {
   "cell_type": "markdown",
   "id": "da551a0a",
   "metadata": {},
   "source": [
    "이렇게 중복되는 실험을 인위적으로 넣어주는 이유는 사실 실험에 참여하는 개수에 따라 각각 평균한 뒤에 이를 평균하기 위해서다."
   ]
  },
  {
   "cell_type": "markdown",
   "id": "bc587882",
   "metadata": {},
   "source": [
    "이게 무슨말인지 찬찬히 살펴보자. 위 실험 셋팅에서 처음 두 비교는 팀원이 한명도 없을때 A의 효과를 보여준다."
   ]
  },
  {
   "cell_type": "markdown",
   "id": "9402f99d",
   "metadata": {},
   "source": [
    "그리고 그 다음 두개의 비교는 팀원이 한명 있었을 때 A의 효과를 보여준다."
   ]
  },
  {
   "cell_type": "markdown",
   "id": "9bb3b322",
   "metadata": {},
   "source": [
    "그리고 그 다음 두개의 비교는 팀원이 두명 있었을 때 A의 효과를 보여준다."
   ]
  },
  {
   "cell_type": "code",
   "execution_count": null,
   "id": "1853e167",
   "metadata": {},
   "outputs": [],
   "source": []
  },
  {
   "cell_type": "code",
   "execution_count": null,
   "id": "a6c4c989",
   "metadata": {},
   "outputs": [],
   "source": []
  },
  {
   "cell_type": "code",
   "execution_count": null,
   "id": "508968d6",
   "metadata": {},
   "outputs": [],
   "source": []
  }
 ],
 "metadata": {
  "kernelspec": {
   "display_name": "Python 3 (ipykernel)",
   "language": "python",
   "name": "python3"
  },
  "language_info": {
   "codemirror_mode": {
    "name": "ipython",
    "version": 3
   },
   "file_extension": ".py",
   "mimetype": "text/x-python",
   "name": "python",
   "nbconvert_exporter": "python",
   "pygments_lexer": "ipython3",
   "version": "3.9.12"
  }
 },
 "nbformat": 4,
 "nbformat_minor": 5
}
